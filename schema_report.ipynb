{
 "cells": [
  {
   "cell_type": "markdown",
   "metadata": {},
   "source": [
    "# Project 3: Wrangle OpenStreetMap Data"
   ]
  },
  {
   "cell_type": "markdown",
   "metadata": {},
   "source": [
    "### Map Area: Atlanta, GA (https://mapzen.com/data/metro-extracts/metro/atlanta_georgia/)\n",
    "\n",
    "#### I picked Atlanta becuase it is the city I currently live in."
   ]
  },
  {
   "cell_type": "code",
   "execution_count": 7,
   "metadata": {
    "collapsed": true
   },
   "outputs": [],
   "source": [
    "#create a dictionary of the different tags as the key and how many as the value\n",
    "def count_tags(filename):\n",
    "    tags = {}\n",
    "    for ev, elem in ET.iterparse(filename):\n",
    "        tag = elem.tag\n",
    "        if tag not in tags.keys():\n",
    "            tags[tag] = 1\n",
    "        else:\n",
    "            tags[tag] = tags[tag]+1\n",
    "    return tags"
   ]
  },
  {
   "cell_type": "code",
   "execution_count": null,
   "metadata": {
    "collapsed": false
   },
   "outputs": [],
   "source": [
    "#checking the 'k' value for each tag for potential problem characters\n",
    "def key_type(element, keys):\n",
    "    if element.tag == \"tag\":\n",
    "        k = element.attrib['k']\n",
    "        if re.search(lower,k):\n",
    "            keys[\"lower\"] += 1\n",
    "        elif re.search(lower_colon,k):\n",
    "            keys[\"lower_colon\"] += 1\n",
    "        elif re.search(problemchars,k):\n",
    "            keys[\"problemchars\"] += 1\n",
    "            print k\n",
    "        else:\n",
    "            keys[\"other\"] += 1\n",
    "    return keys\n",
    "    pass\n",
    "\n",
    "#create a dictionary with 4 tag categories as the key and how many as the value\n",
    "def process_map_v1(filename):\n",
    "    keys = {\"lower\": 0, \"lower_colon\": 0, \"problemchars\": 0, \"other\": 0}\n",
    "    for _, element in ET.iterparse(filename):\n",
    "        keys = key_type(element, keys)\n",
    "    return keys"
   ]
  },
  {
   "cell_type": "code",
   "execution_count": 1,
   "metadata": {
    "collapsed": false
   },
   "outputs": [],
   "source": [
    "#number of users that have edited the map data\n",
    "def process_map_v2(filename):\n",
    "    users = set()\n",
    "    for _, element in ET.iterparse(filename):\n",
    "        for e in element:\n",
    "            if 'uid' in e.attrib:\n",
    "                users.add(e.attrib['uid'])\n",
    "    return users"
   ]
  },
  {
   "cell_type": "markdown",
   "metadata": {},
   "source": [
    "## Problems Encountered"
   ]
  },
  {
   "cell_type": "markdown",
   "metadata": {},
   "source": [
    "#### Street abbreviations:\n",
    "\n",
    "When looking through the output of audit_1 and audit_2 functions I saw that several street names are abbreviated. For example: Ave, Blvd, Cir, Ct and Dr to name some. There is also some incorrect case abbreviations / spellings, for example: COurt, blvd, circle, dr, drive, lane and place.\n",
    "\n",
    "These can be updated with a mapping dictionary and using the update_name and test functions.\n",
    "\n",
    "\n",
    "\n",
    "\n",
    "#### Invalid zip codes:\n",
    "\n",
    "When looking through the zip code data I noticed 2 records that had invalid zip codes. All zip codes in the Atlanta area start with '30' so it was easy to identify with the below query.\n",
    "\n",
    "`SELECT id, value\n",
    "FROM nodes_tags\n",
    "WHERE key like '%postcode%' AND value not LIKE '30%';`  \n",
    "\n",
    "`2352501668 | 80083              \n",
    "3121340792 | Georgia`\n",
    "\n",
    "id '2352501668' is 4997 Saxony Court, Stone Mountain, GA 80083. The correct zip code is 30083 for this address. This can be updated in the database by an UPDATE statement.\n",
    "\n",
    "`UPDATE nodes_tags        \n",
    "SET VALUE = '30083'            \n",
    "WHERE id = '2352501668' AND key LIKE '%postcode%';`\n",
    "\n",
    "id '3121340792' is 1420 Cresthaven Lane NW, Lawrenceville, Georgia with the zip code being 'Georgia'. The correct zip code is 30043 for this address. This can also be updated in the database by an UPDATE statement.\n",
    "\n",
    "`UPDATE nodes_tags        \n",
    "SET VALUE = '30043'            \n",
    "WHERE id = '3121340792' AND key LIKE '%postcode%';`"
   ]
  },
  {
   "cell_type": "code",
   "execution_count": 2,
   "metadata": {
    "collapsed": true
   },
   "outputs": [],
   "source": [
    "#updating street names per the mapping dictionary\n",
    "def update_name(name, mapping):\n",
    "\n",
    "    m = street_type_re.search(name)\n",
    "    if m:\n",
    "        street_type = m.group()\n",
    "        if street_type in mapping.keys():\n",
    "            #print 'Before: ' , name\n",
    "            name = re.sub(m.group(), mapping[m.group()], name)\n",
    "            #print 'After: ', name\n",
    "    return name   \n",
    "\n",
    "def test():\n",
    "    st_types = audit_2(osmfile)   \n",
    "    for st_type, ways in st_types.iteritems():\n",
    "        for name in ways:\n",
    "            better_name = update_name(name, mapping)\n",
    "            print name, \"=>\", better_name            "
   ]
  },
  {
   "cell_type": "code",
   "execution_count": null,
   "metadata": {
    "collapsed": false
   },
   "outputs": [],
   "source": [
    "#shapes the interparse element object and return the dictionary\n",
    "def shape_element_2(element, node_attr_fields=NODE_FIELDS, way_attr_fields=WAY_FIELDS,\n",
    "                  problem_chars=PROBLEMCHARS, default_tag_type='regular'):\n",
    "    \"\"\"Clean and shape node or way XML element to Python dict\"\"\"\n",
    "    node_attribs = {}\n",
    "    way_attribs = {}\n",
    "    way_nodes = []\n",
    "    tags = []  #handle secondary tags the same way for both node and way elements\n",
    "\n",
    "    if element.tag == 'node':\n",
    "        for a in node_attr_fields:\n",
    "            node_attribs[a] = element.attrib[a]\n",
    "\n",
    "    if element.tag == 'way':\n",
    "        for b in way_attr_fields:\n",
    "            way_attribs[b] = element.attrib[b]\n",
    "\n",
    "    for tag in element.iter('tag'):\n",
    "        tag_dict = {}\n",
    "        attributes = tag.attrib\n",
    "        if problem_chars.search(tag.attrib['k']):\n",
    "            continue\n",
    "        if element.tag == 'node':\n",
    "            tag_dict['id'] = node_attribs['id']\n",
    "        else:\n",
    "            tag_dict['id'] = way_attribs['id']\n",
    "        tag_dict['value'] = attributes['v']\n",
    "\n",
    "        if tag.attrib['k'] == 'addr:street':\n",
    "            #update street names\n",
    "            tag_dict['value'] = update_name(tag.attrib['v'], mapping) \n",
    "        else:\n",
    "            pass\n",
    "        lower_colon = LOWER_COLON.search(tag.attrib['k'])\n",
    "\n",
    "        if lower_colon:\n",
    "            before_colon = re.findall('^(.+?):', tag.attrib['k'])\n",
    "            after_colon = re.findall('^[a-z|_]+:(.+)', tag.attrib['k'])\n",
    "            tag_dict['type'] = before_colon\n",
    "            tag_dict['key'] = after_colon\n",
    "        else:\n",
    "            tag_dict['key'] = attributes['k']\n",
    "            tag_dict['type'] = 'regular'\n",
    "        tags.append(tag_dict)\n",
    "        \n",
    "    if element.tag == 'way':\n",
    "        count = 0 \n",
    "        for nd in element.iter('nd'):\n",
    "            way_node_dict = {}\n",
    "            way_node_dict['id'] = element.attrib['id']\n",
    "            way_node_dict['node_id'] = nd.attrib['ref']\n",
    "            way_node_dict['position'] = count\n",
    "            count += 1\n",
    "            way_nodes.append(way_node_dict)\n",
    "            \n",
    "    if element.tag == 'node':\n",
    "        return {'node': node_attribs, 'node_tags': tags}\n",
    "    elif element.tag == 'way':\n",
    "        return {'way': way_attribs, 'way_nodes': way_nodes, 'way_tags': tags}"
   ]
  },
  {
   "cell_type": "markdown",
   "metadata": {
    "collapsed": true
   },
   "source": [
    "# Data Overview\n",
    "### Statistics from the Atlanta OpenStreetMap dataset"
   ]
  },
  {
   "cell_type": "markdown",
   "metadata": {},
   "source": [
    "`sample.osm:          248 MB                                \n",
    "project3.db:         146 MB                                      \n",
    "nodes.csv:           97 MB                            \n",
    "nodes_tags.csv:      8 MB            \n",
    "ways.csv:            5 MB             \n",
    "ways_nodes.csv:      31 MB                  \n",
    "ways_tags.csv:       17 MB`"
   ]
  },
  {
   "cell_type": "markdown",
   "metadata": {},
   "source": [
    "#### Number of unique users:"
   ]
  },
  {
   "cell_type": "markdown",
   "metadata": {},
   "source": [
    "``` sql\n",
    "SELECT COUNT(DISTINCT(e.uid))                   \n",
    "FROM (SELECT uid FROM nodes \n",
    "      UNION ALL \n",
    "      SELECT uid FROM ways) e;\n",
    "```\n",
    "\n",
    "1381"
   ]
  },
  {
   "cell_type": "markdown",
   "metadata": {},
   "source": [
    "#### Number of nodes:"
   ]
  },
  {
   "cell_type": "markdown",
   "metadata": {},
   "source": [
    "```sql\n",
    "SELECT COUNT(*) FROM nodes;\n",
    "```\n",
    "\n",
    "1171609"
   ]
  },
  {
   "cell_type": "markdown",
   "metadata": {},
   "source": [
    "#### Number of ways:"
   ]
  },
  {
   "cell_type": "markdown",
   "metadata": {},
   "source": [
    "``` sql\n",
    "SELECT COUNT(*) FROM ways;\n",
    "```\n",
    "\n",
    "84260"
   ]
  },
  {
   "cell_type": "markdown",
   "metadata": {},
   "source": [
    "#### Top 5 contributing users:"
   ]
  },
  {
   "cell_type": "markdown",
   "metadata": {},
   "source": [
    "```sql\n",
    "SELECT u.user, COUNT(*) as num         \n",
    "FROM (SELECT user FROM nodes \n",
    "      UNION ALL \n",
    "      SELECT user FROM ways) u           \n",
    "GROUP BY u.user         \n",
    "ORDER BY num DESC          \n",
    "LIMIT 5;\n",
    "```\n",
    "\n",
    "\n",
    "`Liber                         | 532818                   \n",
    "Saikrishna_FultonCountyImport | 241015                    \n",
    "woodpeck_fixbot               | 148812                   \n",
    "Jack the Ripper               | 35026                \n",
    "afonit                        | 33632                       `"
   ]
  },
  {
   "cell_type": "markdown",
   "metadata": {},
   "source": [
    "#### Top 5 types of 'natural' key:"
   ]
  },
  {
   "cell_type": "markdown",
   "metadata": {},
   "source": [
    "```sql\n",
    "SELECT tags.value, COUNT(*) as count               \n",
    "FROM (SELECT * FROM nodes_tags               \n",
    "      UNION ALL              \n",
    "      SELECT * FROM ways_tags) tags            \n",
    "WHERE tags.key = 'natural'                                 \n",
    "GROUP BY tags.value              \n",
    "ORDER BY count DESC            \n",
    "LIMIT 5;      \n",
    "```\n",
    "\n",
    "`water   | 3180                \n",
    "wood    | 810        \n",
    "tree    | 561            \n",
    "wetland | 137        \n",
    "peak    | 25`\n"
   ]
  },
  {
   "cell_type": "markdown",
   "metadata": {},
   "source": [
    "#### Most popular religions:"
   ]
  },
  {
   "cell_type": "markdown",
   "metadata": {},
   "source": [
    "```sql\n",
    "SELECT value, COUNT(*) as num\n",
    "FROM nodes_tags\n",
    "WHERE key='religion'\n",
    "GROUP BY value\n",
    "ORDER BY num DESC;\n",
    "```      \n",
    "\n",
    "`christian | 382                     \n",
    "muslim    | 1`"
   ]
  },
  {
   "cell_type": "markdown",
   "metadata": {},
   "source": [
    "#### Top 5 cusines:"
   ]
  },
  {
   "cell_type": "markdown",
   "metadata": {},
   "source": [
    "```sql\n",
    "SELECT value, COUNT(*) as num\n",
    "FROM nodes_tags\n",
    "WHERE key='cuisine'\n",
    "GROUP BY value\n",
    "ORDER BY num DESC\n",
    "LIMIT 5;\n",
    "```\n",
    "\n",
    "\n",
    "`\n",
    "burger   | 16      \n",
    "pizza    | 11               \n",
    "mexican  | 9            \n",
    "chinese  | 7          \n",
    "american | 6    `          \n",
    "\n"
   ]
  },
  {
   "cell_type": "markdown",
   "metadata": {},
   "source": [
    "### Improvements\n",
    "\n",
    "#### 'place' key in the dataset:"
   ]
  },
  {
   "cell_type": "markdown",
   "metadata": {},
   "source": [
    "```sql\n",
    "SELECT value, COUNT(*) as num\n",
    "FROM nodes_tags\n",
    "WHERE key='place'\n",
    "GROUP BY value\n",
    "ORDER BY num DESC;\n",
    "```\n",
    "\n",
    "`hamlet        | 193            \n",
    "neighbourhood | 140           \n",
    "village       | 13            \n",
    "locality      | 6          \n",
    "county        | 5          \n",
    "suburb        | 5         \n",
    "island        | 4    `"
   ]
  },
  {
   "cell_type": "markdown",
   "metadata": {},
   "source": [
    "I thought it was odd to see the top place was a hamlet, the 3rd most common place was a village and neighbourhood is the British spelling. So I investigated where OpenStreetMaps was founded and it was as I guessed, in the UK. I would say that in the US we don't use the words hamlet or village to describe a place, at least not as widely as in the UK. \n",
    "\n",
    "I would recommend using more common words to the region to describe places. What does a hamlet mean vs. a village in the US? This would allow for better understanding of place types in the US, although I do understand using these place constructs for continuity throughout the entire map dataset. If this was implemented it would require common words to the region to be mapped back to the original meaning of hamlet/village.\n",
    "\n",
    "Benefits:\n",
    "\n",
    "* Better understanding of the place type keys in different areas of the world\n",
    "* Add meaning to the place keys in different areas of the world\n",
    "\n",
    "Anticipated Problems:\n",
    "\n",
    "* Going against the standard place keys can create continuity issues and create confusion\n",
    "* Common words to a region would have to be mapped back to the original place keys they are referring to\n",
    "\n",
    "I also noticed that there are apparently 4 islands in the dataset. I am not aware of any island in the Atlanta area so I investigated the 4 nodes.\n",
    "\n",
    "``` sql\n",
    "SELECT nt.id, n.lat, n.lon\n",
    "FROM nodes_tags nt\n",
    "JOIN nodes n\n",
    "ON nt.id = n.id\n",
    "WHERE nt.key = 'place' AND nt.value = 'island';\n",
    "```\n",
    "\n",
    "`358686776  | 32.9934577 | -85.1860533  -> Hairston Island (can't visibly see the island from Google Maps)                     \n",
    "358697497  | 32.8515216 | -84.4668655  -> Owens Island                \n",
    "358705587  | 33.1481772 | -85.0546617  -> Swanson Island (can't visibly see the island from Google Maps)           \n",
    "3473397106 | 33.5887561 | -84.20201    -> An unnamed island, verified with Google Maps earth shot, maps shows as a body of water`\n",
    "\n",
    "It is strange that both OpenStreetMaps and Google Maps incorrectly identify 2 islands (and both show the unnamed island as a body of water), I would assume one is based on the other's incorrect assumption and neither have been audited.\n",
    "\n",
    "\n"
   ]
  }
 ],
 "metadata": {
  "anaconda-cloud": {},
  "kernelspec": {
   "display_name": "Python [default]",
   "language": "python",
   "name": "python2"
  },
  "language_info": {
   "codemirror_mode": {
    "name": "ipython",
    "version": 2
   },
   "file_extension": ".py",
   "mimetype": "text/x-python",
   "name": "python",
   "nbconvert_exporter": "python",
   "pygments_lexer": "ipython2",
   "version": "2.7.12"
  }
 },
 "nbformat": 4,
 "nbformat_minor": 1
}

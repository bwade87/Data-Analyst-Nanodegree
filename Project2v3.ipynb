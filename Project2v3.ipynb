{
 "cells": [
  {
   "cell_type": "markdown",
   "metadata": {
    "collapsed": true
   },
   "source": [
    "# Project 2: Investigate a Dataset"
   ]
  },
  {
   "cell_type": "markdown",
   "metadata": {
    "collapsed": true
   },
   "source": [
    "### I have chosen to investigate the Titanic data that contains information from 891 of the 2224 passengers and crew on board the Titanic.\n",
    "\n",
    "### Questions to investigate:\n",
    "   ** What factors made people more likely to survive? **\n",
    "       1. Did women and children really come first, i.e. did women and children survive at a higher rate compared to men?\n",
    "           This can be broken down into comparing the 'Sex' and 'Age' fields.\n",
    "           \n",
    "       2. Did passenger class impact a passenger's chance to survive?\n",
    "              \n",
    "    "
   ]
  },
  {
   "cell_type": "code",
   "execution_count": 155,
   "metadata": {
    "collapsed": false
   },
   "outputs": [
    {
     "name": "stdout",
     "output_type": "stream",
     "text": [
      "Populating the interactive namespace from numpy and matplotlib\n"
     ]
    }
   ],
   "source": [
    "import pandas as pd\n",
    "import numpy as np\n",
    "import seaborn as sns\n",
    "%pylab inline\n",
    "import matplotlib.pyplot as plt"
   ]
  },
  {
   "cell_type": "code",
   "execution_count": 156,
   "metadata": {
    "collapsed": true
   },
   "outputs": [],
   "source": [
    "# Read the titanic data into a DataFrame\n",
    "\n",
    "titanic_df = pd.read_csv('titanic_data.csv')"
   ]
  },
  {
   "cell_type": "code",
   "execution_count": 157,
   "metadata": {
    "collapsed": false
   },
   "outputs": [
    {
     "name": "stdout",
     "output_type": "stream",
     "text": [
      "<class 'pandas.core.frame.DataFrame'>\n",
      "RangeIndex: 891 entries, 0 to 890\n",
      "Data columns (total 12 columns):\n",
      "PassengerId    891 non-null int64\n",
      "Survived       891 non-null int64\n",
      "Pclass         891 non-null int64\n",
      "Name           891 non-null object\n",
      "Sex            891 non-null object\n",
      "Age            714 non-null float64\n",
      "SibSp          891 non-null int64\n",
      "Parch          891 non-null int64\n",
      "Ticket         891 non-null object\n",
      "Fare           891 non-null float64\n",
      "Cabin          204 non-null object\n",
      "Embarked       889 non-null object\n",
      "dtypes: float64(2), int64(5), object(5)\n",
      "memory usage: 83.6+ KB\n"
     ]
    }
   ],
   "source": [
    "# Look at basic information about the dataset\n",
    "\n",
    "titanic_df.info()"
   ]
  },
  {
   "cell_type": "code",
   "execution_count": 158,
   "metadata": {
    "collapsed": false
   },
   "outputs": [
    {
     "name": "stdout",
     "output_type": "stream",
     "text": [
      "0     22.0\n",
      "1     38.0\n",
      "2     26.0\n",
      "3     35.0\n",
      "4     35.0\n",
      "5      NaN\n",
      "6     54.0\n",
      "7      2.0\n",
      "8     27.0\n",
      "9     14.0\n",
      "10     4.0\n",
      "11    58.0\n",
      "12    20.0\n",
      "13    39.0\n",
      "14    14.0\n",
      "15    55.0\n",
      "16     2.0\n",
      "17     NaN\n",
      "18    31.0\n",
      "19     NaN\n",
      "Name: Age, dtype: float64\n",
      "\n",
      "Number of passengers with NaN values in the Age field:\n",
      "177\n"
     ]
    }
   ],
   "source": [
    "# As the NaN values show below, some passengers have null values for their age (177 to be exact)\n",
    "\n",
    "print titanic_df['Age'].head(20)\n",
    "print ''\n",
    "print 'Number of passengers with NaN values in the Age field:'\n",
    "print titanic_df['Age'].isnull().sum()"
   ]
  },
  {
   "cell_type": "code",
   "execution_count": 159,
   "metadata": {
    "collapsed": false
   },
   "outputs": [
    {
     "data": {
      "text/plain": [
       "<matplotlib.text.Text at 0x1361acf8>"
      ]
     },
     "execution_count": 159,
     "metadata": {},
     "output_type": "execute_result"
    },
    {
     "data": {
      "image/png": "[encoded data removed]",
      "text/plain": [
       "<matplotlib.figure.Figure at 0x13632eb8>"
      ]
     },
     "metadata": {},
     "output_type": "display_data"
    }
   ],
   "source": [
    "# It appears that the pandas built in .hist() function will drop the null values\n",
    "\n",
    "plot1 = titanic_df['Age'].hist()\n",
    "\n",
    "plot1.set_xlabel('Age')\n",
    "plot1.set_ylabel('Passengers')"
   ]
  },
  {
   "cell_type": "code",
   "execution_count": 160,
   "metadata": {
    "collapsed": false
   },
   "outputs": [
    {
     "data": {
      "text/plain": [
       "0     22.000000\n",
       "1     38.000000\n",
       "2     26.000000\n",
       "3     35.000000\n",
       "4     35.000000\n",
       "5     29.699118\n",
       "6     54.000000\n",
       "7      2.000000\n",
       "8     27.000000\n",
       "9     14.000000\n",
       "10     4.000000\n",
       "11    58.000000\n",
       "12    20.000000\n",
       "13    39.000000\n",
       "14    14.000000\n",
       "15    55.000000\n",
       "16     2.000000\n",
       "17    29.699118\n",
       "18    31.000000\n",
       "19    29.699118\n",
       "Name: Age, dtype: float64"
      ]
     },
     "execution_count": 160,
     "metadata": {},
     "output_type": "execute_result"
    }
   ],
   "source": [
    "# I decided to fill missing age values with the mean age, you can see the NaN values have been replaced with the mean (29.699118)\n",
    "titanic_df['Age'] = titanic_df['Age'].fillna(value=titanic_df['Age'].mean())\n",
    "\n",
    "titanic_df['Age'].head(20)"
   ]
  },
  {
   "cell_type": "code",
   "execution_count": 161,
   "metadata": {
    "collapsed": false
   },
   "outputs": [
    {
     "data": {
      "text/plain": [
       "<matplotlib.text.Text at 0x13ae6358>"
      ]
     },
     "execution_count": 161,
     "metadata": {},
     "output_type": "execute_result"
    },
    {
     "data": {
      "image/png": "[encoded data removed]",
      "text/plain": [
       "<matplotlib.figure.Figure at 0x13632b38>"
      ]
     },
     "metadata": {},
     "output_type": "display_data"
    }
   ],
   "source": [
    "# Plotting the histogram again with the null values replaced shows a clear spike around the mean age\n",
    "\n",
    "plot2 = titanic_df['Age'].hist()\n",
    "\n",
    "plot2.set_xlabel('Age')\n",
    "plot2.set_ylabel('Passengers')"
   ]
  },
  {
   "cell_type": "code",
   "execution_count": 162,
   "metadata": {
    "collapsed": false
   },
   "outputs": [
    {
     "name": "stdout",
     "output_type": "stream",
     "text": [
      "Number of males:\n",
      "577\n",
      "\n",
      "Number of females:\n",
      "314\n",
      "\n",
      "Number of children:\n",
      "113\n"
     ]
    }
   ],
   "source": [
    "# Create 3 new datafames of males/females and children (a child is defined as someone who is less than 18 years old) \n",
    "# and print the number of each\n",
    "\n",
    "male = titanic_df[titanic_df['Sex'] == 'male']\n",
    "print 'Number of males:'\n",
    "print male['PassengerId'].count()\n",
    "\n",
    "female = titanic_df[titanic_df['Sex'] == 'female']\n",
    "print ''\n",
    "print 'Number of females:'\n",
    "print female['PassengerId'].count()\n",
    "\n",
    "children = titanic_df[titanic_df['Age'] < 18]\n",
    "print ''\n",
    "print 'Number of children:'\n",
    "print children['PassengerId'].count()"
   ]
  },
  {
   "cell_type": "code",
   "execution_count": 163,
   "metadata": {
    "collapsed": false
   },
   "outputs": [],
   "source": [
    "# Create 2 new datafames of people who did not survive (dead) and those who did (alive)\n",
    "\n",
    "dead = titanic_df[titanic_df['Survived'] == 0]\n",
    "alive = titanic_df[titanic_df['Survived'] == 1]"
   ]
  },
  {
   "cell_type": "code",
   "execution_count": 164,
   "metadata": {
    "collapsed": false
   },
   "outputs": [
    {
     "name": "stdout",
     "output_type": "stream",
     "text": [
      "Number of male survivors\n",
      "109.0\n",
      "\n",
      "Male survival rate:\n",
      "0.188908145581\n"
     ]
    }
   ],
   "source": [
    "# Male survival rate\n",
    "\n",
    "male_survivors = float((alive['Sex'] == 'male').sum())\n",
    "print 'Number of male survivors'\n",
    "print male_survivors\n",
    "male_passengers = float(male['PassengerId'].count())\n",
    "male_survival_rate = male_survivors / male_passengers\n",
    "print ''\n",
    "print 'Male survival rate:'\n",
    "print male_survival_rate"
   ]
  },
  {
   "cell_type": "code",
   "execution_count": 165,
   "metadata": {
    "collapsed": false
   },
   "outputs": [
    {
     "name": "stdout",
     "output_type": "stream",
     "text": [
      "Number of female survivors\n",
      "233.0\n",
      "\n",
      "Female survival rate:\n",
      "0.742038216561\n"
     ]
    }
   ],
   "source": [
    "# Female survival rate\n",
    "\n",
    "female_survivors = float((alive['Sex'] == 'female').sum())\n",
    "print 'Number of female survivors'\n",
    "print female_survivors\n",
    "female_passengers = float(female['PassengerId'].count())\n",
    "female_survival_rate = female_survivors / female_passengers\n",
    "print ''\n",
    "print 'Female survival rate:'\n",
    "print female_survival_rate"
   ]
  },
  {
   "cell_type": "code",
   "execution_count": 166,
   "metadata": {
    "collapsed": false
   },
   "outputs": [
    {
     "data": {
      "text/plain": [
       "<matplotlib.text.Text at 0x1a1e0f98>"
      ]
     },
     "execution_count": 166,
     "metadata": {},
     "output_type": "execute_result"
    },
    {
     "data": {
      "image/png": "[encoded data removed]",
      "text/plain": [
       "<matplotlib.figure.Figure at 0x18bc70f0>"
      ]
     },
     "metadata": {},
     "output_type": "display_data"
    }
   ],
   "source": [
    "# Bar plot of showing number of survivors by sex\n",
    "\n",
    "titanic_df.groupby(['Sex'])[['Survived']].sum().plot(kind='bar', legend=False).set_ylabel('Survivors')"
   ]
  },
  {
   "cell_type": "code",
   "execution_count": 167,
   "metadata": {
    "collapsed": false
   },
   "outputs": [
    {
     "name": "stdout",
     "output_type": "stream",
     "text": [
      "Number of child survivors\n",
      "61.0\n",
      "\n",
      "Child survival rate:\n",
      "0.53982300885\n"
     ]
    }
   ],
   "source": [
    "# Child survival rate (a child is defined as someone who is less than 18 years old)\n",
    "\n",
    "child_survivors= float((alive['Age'] < 18).sum())\n",
    "print 'Number of child survivors'\n",
    "print child_survivors\n",
    "child_passengers = float(children['PassengerId'].count())\n",
    "child_survival_rate = child_survivors / child_passengers\n",
    "print ''\n",
    "print 'Child survival rate:'\n",
    "print child_survival_rate"
   ]
  },
  {
   "cell_type": "code",
   "execution_count": 168,
   "metadata": {
    "collapsed": false
   },
   "outputs": [
    {
     "data": {
      "text/html": [
       "<div>\n",
       "<table border=\"1\" class=\"dataframe\">\n",
       "  <thead>\n",
       "    <tr style=\"text-align: right;\">\n",
       "      <th></th>\n",
       "      <th>PassengerId</th>\n",
       "    </tr>\n",
       "    <tr>\n",
       "      <th>Pclass</th>\n",
       "      <th></th>\n",
       "    </tr>\n",
       "  </thead>\n",
       "  <tbody>\n",
       "    <tr>\n",
       "      <th>1</th>\n",
       "      <td>216</td>\n",
       "    </tr>\n",
       "    <tr>\n",
       "      <th>2</th>\n",
       "      <td>184</td>\n",
       "    </tr>\n",
       "    <tr>\n",
       "      <th>3</th>\n",
       "      <td>491</td>\n",
       "    </tr>\n",
       "  </tbody>\n",
       "</table>\n",
       "</div>"
      ],
      "text/plain": [
       "        PassengerId\n",
       "Pclass             \n",
       "1               216\n",
       "2               184\n",
       "3               491"
      ]
     },
     "execution_count": 168,
     "metadata": {},
     "output_type": "execute_result"
    }
   ],
   "source": [
    "# Count of passengers by passenger class\n",
    "\n",
    "titanic_df.groupby(['Pclass'])[['PassengerId']].count()"
   ]
  },
  {
   "cell_type": "code",
   "execution_count": 169,
   "metadata": {
    "collapsed": false
   },
   "outputs": [
    {
     "data": {
      "text/plain": [
       "<matplotlib.text.Text at 0x1b694240>"
      ]
     },
     "execution_count": 169,
     "metadata": {},
     "output_type": "execute_result"
    },
    {
     "data": {
      "image/png": "[encoded data removed]",
      "text/plain": [
       "<matplotlib.figure.Figure at 0x1b513438>"
      ]
     },
     "metadata": {},
     "output_type": "display_data"
    }
   ],
   "source": [
    "# Bar plot of passengers by passenger class\n",
    "\n",
    "titanic_df.groupby(['Pclass'])[['PassengerId']].count().plot(kind='bar', rot=0).set_ylabel('Passengers')"
   ]
  },
  {
   "cell_type": "code",
   "execution_count": 170,
   "metadata": {
    "collapsed": false
   },
   "outputs": [
    {
     "data": {
      "text/html": [
       "<div>\n",
       "<table border=\"1\" class=\"dataframe\">\n",
       "  <thead>\n",
       "    <tr style=\"text-align: right;\">\n",
       "      <th></th>\n",
       "      <th>Survived</th>\n",
       "    </tr>\n",
       "    <tr>\n",
       "      <th>Pclass</th>\n",
       "      <th></th>\n",
       "    </tr>\n",
       "  </thead>\n",
       "  <tbody>\n",
       "    <tr>\n",
       "      <th>1</th>\n",
       "      <td>136</td>\n",
       "    </tr>\n",
       "    <tr>\n",
       "      <th>2</th>\n",
       "      <td>87</td>\n",
       "    </tr>\n",
       "    <tr>\n",
       "      <th>3</th>\n",
       "      <td>119</td>\n",
       "    </tr>\n",
       "  </tbody>\n",
       "</table>\n",
       "</div>"
      ],
      "text/plain": [
       "        Survived\n",
       "Pclass          \n",
       "1            136\n",
       "2             87\n",
       "3            119"
      ]
     },
     "execution_count": 170,
     "metadata": {},
     "output_type": "execute_result"
    }
   ],
   "source": [
    "# Number of survivors by passenger class\n",
    "\n",
    "titanic_df.groupby(['Pclass'])[['Survived']].sum()"
   ]
  },
  {
   "cell_type": "code",
   "execution_count": 171,
   "metadata": {
    "collapsed": false
   },
   "outputs": [
    {
     "data": {
      "text/plain": [
       "<matplotlib.text.Text at 0x1b921b00>"
      ]
     },
     "execution_count": 171,
     "metadata": {},
     "output_type": "execute_result"
    },
    {
     "data": {
      "image/png": "[encoded data removed]",
      "text/plain": [
       "<matplotlib.figure.Figure at 0x1a37bd68>"
      ]
     },
     "metadata": {},
     "output_type": "display_data"
    }
   ],
   "source": [
    "# Bar plot of survivors by passenger class\n",
    "\n",
    "plot3 = titanic_df.groupby(['Pclass'])[['Survived']].sum().plot(kind='bar', rot=0)\n",
    "\n",
    "plot3.set_xlabel('Passenger Class')\n",
    "plot3.set_ylabel('Survivors')"
   ]
  },
  {
   "cell_type": "code",
   "execution_count": 172,
   "metadata": {
    "collapsed": false
   },
   "outputs": [
    {
     "data": {
      "text/html": [
       "<div>\n",
       "<table border=\"1\" class=\"dataframe\">\n",
       "  <thead>\n",
       "    <tr style=\"text-align: right;\">\n",
       "      <th></th>\n",
       "      <th>Survived</th>\n",
       "    </tr>\n",
       "    <tr>\n",
       "      <th>Pclass</th>\n",
       "      <th></th>\n",
       "    </tr>\n",
       "  </thead>\n",
       "  <tbody>\n",
       "    <tr>\n",
       "      <th>1</th>\n",
       "      <td>0.629630</td>\n",
       "    </tr>\n",
       "    <tr>\n",
       "      <th>2</th>\n",
       "      <td>0.472826</td>\n",
       "    </tr>\n",
       "    <tr>\n",
       "      <th>3</th>\n",
       "      <td>0.242363</td>\n",
       "    </tr>\n",
       "  </tbody>\n",
       "</table>\n",
       "</div>"
      ],
      "text/plain": [
       "        Survived\n",
       "Pclass          \n",
       "1       0.629630\n",
       "2       0.472826\n",
       "3       0.242363"
      ]
     },
     "execution_count": 172,
     "metadata": {},
     "output_type": "execute_result"
    }
   ],
   "source": [
    "# Survival rate broken down by passenger class\n",
    "\n",
    "titanic_df.groupby(['Pclass'])[['Survived']].mean()"
   ]
  },
  {
   "cell_type": "code",
   "execution_count": 173,
   "metadata": {
    "collapsed": false
   },
   "outputs": [
    {
     "data": {
      "text/plain": [
       "<matplotlib.text.Text at 0x1bb8e550>"
      ]
     },
     "execution_count": 173,
     "metadata": {},
     "output_type": "execute_result"
    },
    {
     "data": {
      "image/png": "[encoded data removed]",
      "text/plain": [
       "<matplotlib.figure.Figure at 0x13d98208>"
      ]
     },
     "metadata": {},
     "output_type": "display_data"
    }
   ],
   "source": [
    "# Bar plot of survival rate by passenger class\n",
    "\n",
    "plot4 = titanic_df.groupby(['Pclass'])[['Survived']].mean().plot(kind='bar', rot=0)\n",
    "\n",
    "plot4.set_xlabel('Passenger Class')\n",
    "plot4.set_ylabel('Survival Rate')"
   ]
  },
  {
   "cell_type": "code",
   "execution_count": 174,
   "metadata": {
    "collapsed": false
   },
   "outputs": [
    {
     "data": {
      "text/html": [
       "<div>\n",
       "<table border=\"1\" class=\"dataframe\">\n",
       "  <thead>\n",
       "    <tr style=\"text-align: right;\">\n",
       "      <th></th>\n",
       "      <th></th>\n",
       "      <th>Survived</th>\n",
       "    </tr>\n",
       "    <tr>\n",
       "      <th>Pclass</th>\n",
       "      <th>Sex</th>\n",
       "      <th></th>\n",
       "    </tr>\n",
       "  </thead>\n",
       "  <tbody>\n",
       "    <tr>\n",
       "      <th rowspan=\"2\" valign=\"top\">1</th>\n",
       "      <th>female</th>\n",
       "      <td>0.968085</td>\n",
       "    </tr>\n",
       "    <tr>\n",
       "      <th>male</th>\n",
       "      <td>0.368852</td>\n",
       "    </tr>\n",
       "    <tr>\n",
       "      <th rowspan=\"2\" valign=\"top\">2</th>\n",
       "      <th>female</th>\n",
       "      <td>0.921053</td>\n",
       "    </tr>\n",
       "    <tr>\n",
       "      <th>male</th>\n",
       "      <td>0.157407</td>\n",
       "    </tr>\n",
       "    <tr>\n",
       "      <th rowspan=\"2\" valign=\"top\">3</th>\n",
       "      <th>female</th>\n",
       "      <td>0.500000</td>\n",
       "    </tr>\n",
       "    <tr>\n",
       "      <th>male</th>\n",
       "      <td>0.135447</td>\n",
       "    </tr>\n",
       "  </tbody>\n",
       "</table>\n",
       "</div>"
      ],
      "text/plain": [
       "               Survived\n",
       "Pclass Sex             \n",
       "1      female  0.968085\n",
       "       male    0.368852\n",
       "2      female  0.921053\n",
       "       male    0.157407\n",
       "3      female  0.500000\n",
       "       male    0.135447"
      ]
     },
     "execution_count": 174,
     "metadata": {},
     "output_type": "execute_result"
    }
   ],
   "source": [
    "# Survival rate broken down by passenger class and by sex\n",
    "\n",
    "titanic_df.groupby(['Pclass', 'Sex'])[['Survived']].mean()"
   ]
  },
  {
   "cell_type": "code",
   "execution_count": 175,
   "metadata": {
    "collapsed": false
   },
   "outputs": [
    {
     "data": {
      "text/plain": [
       "<matplotlib.text.Text at 0x1bdc5198>"
      ]
     },
     "execution_count": 175,
     "metadata": {},
     "output_type": "execute_result"
    },
    {
     "data": {
      "image/png": "[encoded data removed]",
      "text/plain": [
       "<matplotlib.figure.Figure at 0x1bc63588>"
      ]
     },
     "metadata": {},
     "output_type": "display_data"
    }
   ],
   "source": [
    "# Bar graph showing survival rate of passengers by passenger class with female as the blue bar and male as the green bar\n",
    "\n",
    "\n",
    "titanic_df.groupby(['Pclass', 'Sex'])[['Survived']].mean().unstack().plot(kind='bar', rot=0).set_ylabel('Survival Rate')"
   ]
  },
  {
   "cell_type": "markdown",
   "metadata": {},
   "source": [
    "### Conclusions:\n",
    "\n",
    "Let's again look at the questions we are trying to answer.\n",
    "\n",
    "** What factors made people more likely to survive? **\n",
    "   ** What factors made people more likely to survive? **\n",
    "       1. Did women and children really come first, i.e. did women and children survive at a higher rate compared to men?\n",
    "           This can be broken down into comparing the 'Sex' and 'Age' fields.\n",
    "           \n",
    "       2. Did passenger class impact a passenger's chance to survive?"
   ]
  },
  {
   "cell_type": "markdown",
   "metadata": {},
   "source": [
    "1. The female survival rate of 0.74 and child survival rate of 0.54 is higher than the male survival rate of 0.19\n",
    "\n",
    "2. Passengers in 1st class had a survival rate of 0.63, greater than the survival rate of 2nd class 0.47 and greater than the survival rate of 3rd class 0.24.  \n",
    "\n",
    "    I also looked at the survival rate of passenger class by sex, which again shows the survival rate of women higher than men and 1st class greater than 2nd class and greater than 3rd class. I thought it was interesting that the survival rate of women in 1st and 2nd class was 0.97 and 0.92 respectively.\n",
    "    \n",
    "   \n",
    "   \n",
    "   These findings are based on data from 891 (about 40%) of the total passengers and crew from the Titanic. No hypothesis testing has been performed to show the significance of any variables.\n",
    "   \n",
    "   \n",
    "** Websites used for reference: **\n",
    "   1. Main titanic kaggle site: https://www.kaggle.com/c/titanic\n",
    "   2. Omar El Gabry's submission: https://www.kaggle.com/omarelgabry/titanic/a-journey-through-titanic\n",
    "   3. Pandas documentation on visualizations: http://pandas.pydata.org/pandas-docs/version/0.18.1/visualization.html"
   ]
  }
 ],
 "metadata": {
  "anaconda-cloud": {},
  "kernelspec": {
   "display_name": "Python [default]",
   "language": "python",
   "name": "python2"
  },
  "language_info": {
   "codemirror_mode": {
    "name": "ipython",
    "version": 2
   },
   "file_extension": ".py",
   "mimetype": "text/x-python",
   "name": "python",
   "nbconvert_exporter": "python",
   "pygments_lexer": "ipython2",
   "version": "2.7.12"
  }
 },
 "nbformat": 4,
 "nbformat_minor": 1
}
